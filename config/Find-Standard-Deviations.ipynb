{
 "cells": [
  {
   "cell_type": "code",
   "execution_count": 17,
   "metadata": {},
   "outputs": [],
   "source": [
    "import numpy as np\n",
    "import csv"
   ]
  },
  {
   "cell_type": "code",
   "execution_count": 18,
   "metadata": {},
   "outputs": [
    {
     "name": "stdout",
     "output_type": "stream",
     "text": [
      "0.6883345568775113\n"
     ]
    }
   ],
   "source": [
    "f = open(\"log/Graph1.txt\")\n",
    "gps = []\n",
    "i = 0\n",
    "for line in csv.reader(f):\n",
    "    if (i != 0):\n",
    "        gps.append(float(line[1]))\n",
    "    i += 1\n",
    "    \n",
    "print(np.std(np.array(gps)))"
   ]
  },
  {
   "cell_type": "code",
   "execution_count": 19,
   "metadata": {},
   "outputs": [
    {
     "name": "stdout",
     "output_type": "stream",
     "text": [
      "0.4760214907257808\n"
     ]
    }
   ],
   "source": [
    "f = open(\"log/Graph2.txt\")\n",
    "imu = []\n",
    "i = 0\n",
    "for line in csv.reader(f):\n",
    "    if (i != 0):\n",
    "        imu.append(float(line[1]))\n",
    "    i += 1\n",
    "    \n",
    "print(np.std(np.array(imu)))"
   ]
  },
  {
   "cell_type": "code",
   "execution_count": null,
   "metadata": {},
   "outputs": [],
   "source": []
  }
 ],
 "metadata": {
  "kernelspec": {
   "display_name": "Python 3",
   "language": "python",
   "name": "python3"
  },
  "language_info": {
   "codemirror_mode": {
    "name": "ipython",
    "version": 3
   },
   "file_extension": ".py",
   "mimetype": "text/x-python",
   "name": "python",
   "nbconvert_exporter": "python",
   "pygments_lexer": "ipython3",
   "version": "3.7.4"
  }
 },
 "nbformat": 4,
 "nbformat_minor": 2
}
